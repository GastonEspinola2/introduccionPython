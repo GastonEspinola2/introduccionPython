{
 "cells": [
  {
   "cell_type": "markdown",
   "metadata": {},
   "source": [
    "# Criterios de evaluación.\n",
    "\n",
    "* Se deben utilizar nombres de variables descriptivos y claros.\n",
    "* Cada ejercicio debe ser realizado utilizando **FUNCIONES**, NO solo codigo suelto.\n",
    "* Comentarios claros y concisos que expliquen el propósito de cada sección del código.\n",
    "* Entrega en tiempo y forma.\n",
    "* Todo el código desarrollado debe ser subido a un repositorio en GitHub.\n",
    "\n",
    "\n",
    "**Aclaración: Para resolver las actividades se debe incertar casillas de codigo entre cada actividad del cuaderno de Jupyter**"
   ]
  },
  {
   "cell_type": "markdown",
   "metadata": {},
   "source": [
    "### 1. **Bucles**\n",
    "\n",
    "   - **Actividad 1.1**: Escribir un programa que muestre el print de todo lo que el usuario introduzca hasta que el usuario escriba “salir” que terminará.\n",
    "   \n",
    "   - **Actividad 1.2**: Escribir un programa que pida al usuario un número entero y muestre por pantalla un triángulo rectángulo como el de más abajo con la cantidad de escalones indicados previamente (los numeros dentro del triangulo deben ser enteros aleatorios del 0 al 9).\n",
    "* 1\n",
    "* 3 1\n",
    "* 5 3 1\n",
    "* 7 5 3 1\n",
    "* 9 7 5 3 1"
   ]
  },
  {
   "cell_type": "code",
   "execution_count": null,
   "metadata": {},
   "outputs": [
    {
     "name": "stdout",
     "output_type": "stream",
     "text": [
      "Esto es lo que escribiste:\n",
      "            inicio\n",
      "            \n",
      "Esto es lo que escribiste:\n",
      "            prueba\n",
      "            \n",
      "Programa finalizado\n"
     ]
    }
   ],
   "source": [
    "def ingresar_texto():\n",
    "    while True:\n",
    "        usuario_texto = input(\"Introduce lo que quieras y cuando termines escribe 'salir'\")\n",
    "        if usuario_texto.lower() == \"salir\":\n",
    "            print(\"Programa finalizado\")\n",
    "            break\n",
    "        print(f\"\"\"Esto es lo que escribiste:\n",
    "            {usuario_texto}\n",
    "            \"\"\")\n",
    "ingresar_texto()"
   ]
  },
  {
   "cell_type": "code",
   "execution_count": 82,
   "metadata": {},
   "outputs": [
    {
     "name": "stdout",
     "output_type": "stream",
     "text": [
      "2\n",
      "1 6\n",
      "2 1 9\n",
      "3 7 7 3\n",
      "8 8 1 5 9\n"
     ]
    }
   ],
   "source": [
    "import random\n",
    "\n",
    "def triangulo():\n",
    "    escalones = int(input(\"Ingrese un numero entero para la cantidad de escalones\"))\n",
    "    \n",
    "    for i in range(1, escalones + 1):\n",
    "        fila = [random.randint(0,9) for _ in range(i)] # el _ indica a python que lo que muestra no se va a utilizar a futuro\n",
    "        # Convierte la lista en cadena de texto y los separa por medio de un \" \"\n",
    "        print(\" \".join(map(str, fila)))\n",
    "\n",
    "triangulo()"
   ]
  },
  {
   "cell_type": "markdown",
   "metadata": {},
   "source": [
    "### 2. **Listas y Tuplas**\n",
    "\n",
    "   - **Actividad 1**: Escribir un programa que pida al usuario una frase y muestre por pantalla el número de veces que contiene cada vocal y la cantidad de espacios en blanco.\n",
    "\n",
    "   - **Actividad 2**: Escribir un programa que cree una matriz (con numeros aleatorios del 1 al 100) usando las dimensiones de X e Y que el usuario deberia ingresar por consola, luego crea una tupla con la matriz transpuesta y por ultimo las muestra ambas por consola .\n",
    "\n",
    "   - **Actividad 3**: Escribir un programa que almacene en una lista los siguientes precios, 50, 75, 46, 22, 80, 65, 8, y muestre por pantalla el menor y el mayor de los precios"
   ]
  },
  {
   "cell_type": "code",
   "execution_count": null,
   "metadata": {},
   "outputs": [
    {
     "name": "stdout",
     "output_type": "stream",
     "text": [
      "Su frase ingresada fue\n",
      "        'hola como estas'\n",
      "Cantidad de cada vocal:\n",
      "a: 2\n",
      "e: 1\n",
      "i: 0\n",
      "o: 3\n",
      "u: 0\n",
      "Espacios en blanco: 2\n"
     ]
    }
   ],
   "source": [
    "def vocales_espacios(frase):\n",
    "    frase = frase.lower()\n",
    "    vocales = ['a', 'e', 'i', 'o', 'u']\n",
    "    conteo_vocales = [0, 0, 0, 0, 0] \n",
    "    espacios = 0\n",
    "\n",
    "    for caracter in frase:\n",
    "        if caracter in vocales:\n",
    "            # Busca en que posicion se encuentra la vocal en la lista de vocales\n",
    "            indice = vocales.index(caracter)\n",
    "            # Aumenta en 1 el valor de conteo_vocales\n",
    "            conteo_vocales[indice] += 1\n",
    "        elif caracter == ' ':\n",
    "            espacios += 1\n",
    "\n",
    "    print(f\"\"\"Su frase ingresada fue\n",
    "        '{frase_usuario}'\"\"\")\n",
    "    \n",
    "    print(\"Cantidad de cada vocal:\")\n",
    "    # Muestra cuantas veces aparecio cada vocal\n",
    "    for i in range(len(vocales)):\n",
    "        print(f\"{vocales[i]}: {conteo_vocales[i]}\")\n",
    "    print(f\"Espacios en blanco: {espacios}\")\n",
    "\n",
    "frase_usuario = input(\"Introduce una frase: \")\n",
    "vocales_espacios(frase_usuario)\n"
   ]
  },
  {
   "cell_type": "code",
   "execution_count": 74,
   "metadata": {},
   "outputs": [
    {
     "name": "stdout",
     "output_type": "stream",
     "text": [
      "\n",
      "Matriz original:\n",
      "[74, 55]\n",
      "[39, 80]\n",
      "\n",
      "Matriz transpuesta (como tupla):\n",
      "(74, 39)\n",
      "(55, 80)\n"
     ]
    }
   ],
   "source": [
    "import random\n",
    "\n",
    "def crear_matriz(x, y):\n",
    "    return [[random.randint(1, 100) for _ in range(y)] for _ in range(x)]\n",
    "\n",
    "def transponer_matriz(matriz):\n",
    "    return tuple(zip(*matriz))\n",
    "\n",
    "def mostrar_matriz(matriz, titulo=\"Matriz\"):\n",
    "    print(f\"\\n{titulo}:\")\n",
    "    for fila in matriz:\n",
    "        print(fila)\n",
    "\n",
    "try:\n",
    "    x = int(input(\"Introduce el número de filas (X): \"))\n",
    "    y = int(input(\"Introduce el número de columnas (Y): \"))\n",
    "\n",
    "    if x <= 0 or y <= 0:\n",
    "        print(\"Las dimensiones deben ser mayores que cero.\")\n",
    "    else:\n",
    "        matriz = crear_matriz(x, y)\n",
    "        matriz_transpuesta = transponer_matriz(matriz)\n",
    "\n",
    "        mostrar_matriz(matriz, \"Matriz original\")\n",
    "        mostrar_matriz(matriz_transpuesta, \"Matriz transpuesta (como tupla)\")\n",
    "\n",
    "except ValueError:\n",
    "    print(\"Por favor, introduce números enteros válidos.\")\n"
   ]
  },
  {
   "cell_type": "code",
   "execution_count": null,
   "metadata": {},
   "outputs": [
    {
     "name": "stdout",
     "output_type": "stream",
     "text": [
      "Lista de precios: [50, 75, 46, 22, 80, 65, 8]\n",
      "Precio más bajo: 8\n",
      "Precio más alto: 80\n"
     ]
    }
   ],
   "source": [
    "def mayor_menor():\n",
    "    precios = [50, 75, 46, 22, 80, 65, 8]\n",
    "    menor = min(precios)\n",
    "    mayor = max(precios)\n",
    "\n",
    "    print(\"Lista de precios:\", precios)\n",
    "    print(\"Precio más bajo:\", menor)\n",
    "    print(\"Precio más alto:\", mayor)\n",
    "\n",
    "mayor_menor()\n"
   ]
  },
  {
   "cell_type": "markdown",
   "metadata": {},
   "source": [
    "### 3. **Diccionarios**\n",
    "\n",
    "   - **Actividad 1**: Escribir un programa que cree un diccionario simulando una cesta de la compra. El programa debe preguntar el artículo y su precio y añadir el par al diccionario, hasta que el usuario decida terminar. Después se debe mostrar por pantalla la lista de la compra y el coste total, con el siguiente formato.\n",
    "\n",
    "   | arts  |precio |\n",
    "   |-------|-------|\n",
    "   |art 1  |1      |\n",
    "   |art 2  |2      |\n",
    "   |art 3  |3      |\n",
    "   |total  |6      |\n",
    "\n",
    "   - **Actividad 2**: Escribir un programa que cree un diccionario de traducción español-inglés. El usuario introducirá las palabras en español e inglés separadas por dos puntos, y cada par <palabra> : <traducción> separados por comas (es decir, solo se debe usar **UNA VEZ** la función input para la carga de palabras). El programa debe crear un diccionario con las palabras y sus traducciones. Después pedirá una frase en español y utilizará el diccionario para traducirla palabra a palabra. Si una palabra no está en el diccionario debe dejarla sin traducir.\n",
    "\n",
    "   - **Actividad 3**: Escribir un programa que reciba una cadena de caracteres y devuelva un diccionario con cada palabra que contiene y su frecuencia. Escribir otra función que reciba el diccionario generado con la función anterior y devuelva una tupla con la palabra más repetida y su frecuencia."
   ]
  },
  {
   "cell_type": "code",
   "execution_count": 76,
   "metadata": {},
   "outputs": [
    {
     "name": "stdout",
     "output_type": "stream",
     "text": [
      "Introduce los artículos y sus precios. Escribe 'fin' para terminar.\n",
      "   | arts       | precio |\n",
      "   |------------|--------|\n",
      "   | Tomate     | 20.00  |\n",
      "   | Durazno    | 50.00  |\n",
      "   |------------|--------|\n",
      "   | total      | 70.00  |\n"
     ]
    }
   ],
   "source": [
    "def cesta_compra():\n",
    "    cesta = {}\n",
    "    print(\"Introduce los artículos y sus precios. Escribe 'fin' para terminar.\")\n",
    "\n",
    "    while True:\n",
    "        articulo = input(\"Artículo: \")\n",
    "        if articulo.lower() == \"fin\":\n",
    "            break\n",
    "        try:\n",
    "            precio = float(input(\"Precio: \"))\n",
    "            cesta[articulo] = precio\n",
    "        except ValueError:\n",
    "            print(\"Por favor, introduce un número válido para el precio.\")\n",
    "\n",
    "    print(\"   | arts       | precio |\")\n",
    "    print(\"   |------------|--------|\")\n",
    "    total = 0\n",
    "    for art, precio in cesta.items():\n",
    "        # el :<10 le dice a python que alinee el texto a la izquierda y ocupe 10 espacios de ancho total\n",
    "        # Y el .2f le dice que muestre el numero con 2 decimales despues del punto (por ejemplo 20.00)\n",
    "        print(f\"   | {art:<10} | {precio:<6.2f} |\")\n",
    "        total += precio\n",
    "    print(\"   |------------|--------|\")\n",
    "    print(f\"   | {'total':<10} | {total:<6.2f} |\")\n",
    "\n",
    "cesta_compra()\n"
   ]
  },
  {
   "cell_type": "code",
   "execution_count": null,
   "metadata": {},
   "outputs": [
    {
     "name": "stdout",
     "output_type": "stream",
     "text": [
      "Diccionario creado:\n",
      "hola -> hello\n",
      "si -> yes\n",
      "Frase traducida:\n",
      "hello como yes estas\n"
     ]
    }
   ],
   "source": [
    "def traductor():\n",
    "    entrada = input(\"Introduce las palabras en formato 'español:inglés,español:inglés,...': \")\n",
    "\n",
    "    # Crear el diccionario\n",
    "    # Lo divide por comas\n",
    "    pares = entrada.split(\",\")\n",
    "    diccionario = {}\n",
    "    # Recorre cada par\n",
    "    for par in pares:\n",
    "        if \":\" in par:\n",
    "            # strip elimina espacios al principio y final y split(\":\") divide en español e ingles\n",
    "            esp, ing = par.strip().split(\":\")\n",
    "            # Se agrega al diccionario esp : ing\n",
    "            diccionario[esp.strip()] = ing.strip()\n",
    "\n",
    "    print(\"Diccionario creado:\")\n",
    "    for k, v in diccionario.items():\n",
    "        print(f\"{k} = {v}\")\n",
    "\n",
    "    frase = input(\"Introduce una frase en español para traducir: \")\n",
    "    # Convierte la frase en una lista de palabras\n",
    "    palabras = frase.split()\n",
    "    traduccion = []\n",
    "\n",
    "    for palabra in palabras:\n",
    "        # recorre cada palabra y busca su traduccion\n",
    "        traduccion.append(diccionario.get(palabra, palabra))\n",
    "\n",
    "    print(\"Frase traducida:\")\n",
    "    print(\" \".join(traduccion))\n",
    "\n",
    "\n",
    "traductor()\n"
   ]
  },
  {
   "cell_type": "code",
   "execution_count": null,
   "metadata": {},
   "outputs": [
    {
     "name": "stdout",
     "output_type": "stream",
     "text": [
      "Frecuencia de palabras:\n",
      "hola: 2\n",
      "si: 1\n",
      "no: 1\n",
      "Palabra más repetida: 'hola' con 2 apariciones\n"
     ]
    }
   ],
   "source": [
    "def contar_palabras(cadena):\n",
    "    palabras = cadena.lower().split()\n",
    "    frecuencia = {}\n",
    "    for palabra in palabras:\n",
    "        if palabra:\n",
    "            # Frecuencia.get busca la cantidad actual, luego le suma y lo guarda (Si no existe, usa el 0)\n",
    "            frecuencia[palabra] = frecuencia.get(palabra, 0) + 1\n",
    "    return frecuencia\n",
    "\n",
    "\n",
    "def mas_repetida(diccionario):\n",
    "    if not diccionario:\n",
    "        return None\n",
    "    # Devuelve una lista de pares clave valor, y key=lambda etc compara por el segundo valor del par\n",
    "    return max(diccionario.items(), key=lambda item: item[1])\n",
    "\n",
    "texto = input(\"Introduce una frase o texto: \")\n",
    "frecuencias = contar_palabras(texto)\n",
    "print(\"Frecuencia de palabras:\")\n",
    "# Muestra cada palabra con su cantidad\n",
    "for palabra, cantidad in frecuencias.items():\n",
    "    print(f\"{palabra}: {cantidad}\")\n",
    "\n",
    "resultado = mas_repetida(frecuencias)\n",
    "if resultado:\n",
    "    print(f\"Palabra más repetida: '{resultado[0]}' con {resultado[1]} apariciones\")\n",
    "else:\n",
    "    print(\"No se encontraron palabras.\")\n"
   ]
  },
  {
   "cell_type": "markdown",
   "metadata": {},
   "source": [
    "### 4. **Funciones**\n",
    "\n",
    "- **Actividad 1**: Escribir una función que calcule el total de una factura tras aplicarle el IVA. La función debe recibir la cantidad sin IVA y el porcentaje de IVA a aplicar, y devolver el total de la factura. Si se invoca la función sin pasarle el porcentaje de IVA, deberá aplicar un 21%.\n",
    "\n",
    "- **Actividad 2**: Escribir una función que reciba un número entero positivo y devuelva su factorial.\n"
   ]
  },
  {
   "cell_type": "code",
   "execution_count": 48,
   "metadata": {},
   "outputs": [
    {
     "name": "stdout",
     "output_type": "stream",
     "text": [
      "1210.0\n"
     ]
    }
   ],
   "source": [
    "def calculo_iva(precio_original, iva=21):\n",
    "    # Calculamos el IVA\n",
    "    iva_calculado = precio_original * iva / 100\n",
    "    # Sumamos el IVA al precio original (el total)\n",
    "    total_con_iva = precio_original + iva_calculado\n",
    "    return total_con_iva\n",
    "\n",
    "total = calculo_iva(1000)\n",
    "print(total)"
   ]
  },
  {
   "cell_type": "code",
   "execution_count": 79,
   "metadata": {},
   "outputs": [
    {
     "data": {
      "text/plain": [
       "5040"
      ]
     },
     "execution_count": 79,
     "metadata": {},
     "output_type": "execute_result"
    }
   ],
   "source": [
    "def factorial(n):\n",
    "    if n < 0:\n",
    "        print(\"El numero debe ser positivo\")\n",
    "    if n == 0:\n",
    "        return 1\n",
    "    \n",
    "    resultado = 1\n",
    "    for i in range(1, n + 1):\n",
    "        resultado *= i\n",
    "    \n",
    "    return resultado\n",
    "\n",
    "factorial(7)"
   ]
  }
 ],
 "metadata": {
  "kernelspec": {
   "display_name": "Python 3",
   "language": "python",
   "name": "python3"
  },
  "language_info": {
   "codemirror_mode": {
    "name": "ipython",
    "version": 3
   },
   "file_extension": ".py",
   "mimetype": "text/x-python",
   "name": "python",
   "nbconvert_exporter": "python",
   "pygments_lexer": "ipython3",
   "version": "3.13.2"
  }
 },
 "nbformat": 4,
 "nbformat_minor": 2
}
